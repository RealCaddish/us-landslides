{
 "cells": [
  {
   "cell_type": "code",
   "execution_count": 3,
   "id": "51df7503",
   "metadata": {},
   "outputs": [],
   "source": [
    "import pandas as pd\n",
    "import matplotlib.pyplot as plt\n",
    "import numpy as np"
   ]
  },
  {
   "cell_type": "code",
   "execution_count": 6,
   "id": "0889214a",
   "metadata": {},
   "outputs": [
    {
     "name": "stdout",
     "output_type": "stream",
     "text": [
      "           source_name                                        source_link  \\\n",
      "0              Temblor  http://temblor.net/earthquake-insights/greenla...   \n",
      "1               Xinhua  http://news.xinhuanet.com/english/2017-06/24/c...   \n",
      "2             BBC News  http://www.bbc.com/news/world-latin-america-39...   \n",
      "3                  AGU  https://blogs.agu.org/landslideblog/2008/10/14...   \n",
      "4             CBS News  https://www.cbsnews.com/news/dozens-missing-af...   \n",
      "...                ...                                                ...   \n",
      "11028     My Republica              http://www.myrepublica.com/news/5500/   \n",
      "11029  Sierra Sentinel  http://www.sierrasentinel.com/2016/10/mudslide...   \n",
      "11030      news.com.au  http://www.news.com.au/national/breaking-news/...   \n",
      "11031      Yahoo! News  https://uk.news.yahoo.com/landslide-imperils-b...   \n",
      "11032   Indian Express  http://indianexpress.com/article/india/india-n...   \n",
      "\n",
      "       event_date  year   time landslide_category landslide_trigger  \\\n",
      "0       6/17/2017  2017  13:20          landslide       freeze_thaw   \n",
      "1       6/24/2017  2017  13:10          landslide   continuous_rain   \n",
      "2       3/25/2017  2017  17:32        debris_flow          downpour   \n",
      "3        8/1/2008  2008   0:00          landslide              rain   \n",
      "4       1/19/2007  2007   0:00          landslide          downpour   \n",
      "...           ...   ...    ...                ...               ...   \n",
      "11028   9/12/2016  2016  12:55          landslide   continuous_rain   \n",
      "11029  10/30/2016  2016  14:24           mudslide              rain   \n",
      "11030   9/14/2016  2016  14:54          landslide          flooding   \n",
      "11031   2/16/2017  2017  19:25          landslide               NaN   \n",
      "11032   9/17/2016  2016  14:54          landslide               NaN   \n",
      "\n",
      "      landslide_size  size_numeric fatality_count  injury_count         LON  \\\n",
      "0       catastrophic             6              4           9.0  -53.208746   \n",
      "1       catastrophic             6            103           3.0  103.665617   \n",
      "2       catastrophic             6            329         332.0  -76.639923   \n",
      "3              large             4             11           NaN  107.450000   \n",
      "4              large             4             10           NaN  -75.358700   \n",
      "...              ...           ...            ...           ...         ...   \n",
      "11028        unknown             1              0           0.0   86.398964   \n",
      "11029        unknown             1              0           0.0 -120.704661   \n",
      "11030        unknown             1              0           0.0  143.427857   \n",
      "11031        unknown             1              0           0.0   13.688375   \n",
      "11032        unknown             1              5           0.0   92.717800   \n",
      "\n",
      "             LAT  \n",
      "0      71.536599  \n",
      "1      32.080874  \n",
      "2       1.151898  \n",
      "3      32.562500  \n",
      "4     -11.129500  \n",
      "...          ...  \n",
      "11028  27.140584  \n",
      "11029  38.297838  \n",
      "11030 -38.781590  \n",
      "11031  42.727272  \n",
      "11032  23.725943  \n",
      "\n",
      "[11033 rows x 13 columns]\n"
     ]
    }
   ],
   "source": [
    "data = pd.read_csv('../data/landslides.csv')\n",
    "print(data)\n"
   ]
  },
  {
   "cell_type": "code",
   "execution_count": null,
   "id": "9dcc14cd",
   "metadata": {},
   "outputs": [],
   "source": []
  }
 ],
 "metadata": {
  "kernelspec": {
   "display_name": "Python 3 (ipykernel)",
   "language": "python",
   "name": "python3"
  },
  "language_info": {
   "codemirror_mode": {
    "name": "ipython",
    "version": 3
   },
   "file_extension": ".py",
   "mimetype": "text/x-python",
   "name": "python",
   "nbconvert_exporter": "python",
   "pygments_lexer": "ipython3",
   "version": "3.9.6"
  }
 },
 "nbformat": 4,
 "nbformat_minor": 5
}
